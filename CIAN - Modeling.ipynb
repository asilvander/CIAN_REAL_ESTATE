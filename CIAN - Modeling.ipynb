{
 "cells": [
  {
   "cell_type": "code",
   "execution_count": 1,
   "id": "04be58dd",
   "metadata": {},
   "outputs": [],
   "source": [
    "import gc\n",
    "import os\n",
    "import random\n",
    "import pandas as pd\n",
    "import numpy as np\n",
    "import matplotlib.pyplot as plt\n",
    "import seaborn as sns\n",
    "\n",
    "\n",
    "import warnings\n",
    "warnings.filterwarnings('ignore')"
   ]
  },
  {
   "cell_type": "code",
   "execution_count": 2,
   "id": "e61bf6b7",
   "metadata": {},
   "outputs": [],
   "source": [
    "PATH = '/Users/artem/Documents/Projects/CIAN Real Estate/cian-sales-2018-2021.csv'\n",
    "\n",
    "REGION_ID = 2661  # City of Saint Petersburg\n",
    "\n",
    "MIN_AREA = 20  # Outlier range for floor area\n",
    "MAX_AREA = 200\n",
    "\n",
    "MIN_KITCHEN = 6  # Outlier range for kitchen area\n",
    "MAX_KITCHEN = 30\n",
    "\n",
    "MIN_PRICE = 1_500_000  # Outlier range for price\n",
    "MAX_PRICE = 50_000_000\n",
    "\n",
    "SEED = 15\n",
    "N_FOLDS = 5"
   ]
  },
  {
   "cell_type": "code",
   "execution_count": 3,
   "id": "287418a3",
   "metadata": {},
   "outputs": [
    {
     "name": "stdout",
     "output_type": "stream",
     "text": [
      "Data shape: (5477006, 13)\n"
     ]
    },
    {
     "data": {
      "text/html": [
       "<div>\n",
       "<style scoped>\n",
       "    .dataframe tbody tr th:only-of-type {\n",
       "        vertical-align: middle;\n",
       "    }\n",
       "\n",
       "    .dataframe tbody tr th {\n",
       "        vertical-align: top;\n",
       "    }\n",
       "\n",
       "    .dataframe thead th {\n",
       "        text-align: right;\n",
       "    }\n",
       "</style>\n",
       "<table border=\"1\" class=\"dataframe\">\n",
       "  <thead>\n",
       "    <tr style=\"text-align: right;\">\n",
       "      <th></th>\n",
       "      <th>price</th>\n",
       "      <th>date</th>\n",
       "      <th>time</th>\n",
       "      <th>geo_lat</th>\n",
       "      <th>geo_lon</th>\n",
       "      <th>region</th>\n",
       "      <th>building_type</th>\n",
       "      <th>level</th>\n",
       "      <th>levels</th>\n",
       "      <th>rooms</th>\n",
       "      <th>area</th>\n",
       "      <th>kitchen_area</th>\n",
       "      <th>object_type</th>\n",
       "    </tr>\n",
       "  </thead>\n",
       "  <tbody>\n",
       "    <tr>\n",
       "      <th>0</th>\n",
       "      <td>6050000</td>\n",
       "      <td>2018-02-19</td>\n",
       "      <td>20:00:21</td>\n",
       "      <td>59.805808</td>\n",
       "      <td>30.376141</td>\n",
       "      <td>2661</td>\n",
       "      <td>1</td>\n",
       "      <td>8</td>\n",
       "      <td>10</td>\n",
       "      <td>3</td>\n",
       "      <td>82.6</td>\n",
       "      <td>10.8</td>\n",
       "      <td>1</td>\n",
       "    </tr>\n",
       "    <tr>\n",
       "      <th>1</th>\n",
       "      <td>8650000</td>\n",
       "      <td>2018-02-27</td>\n",
       "      <td>12:04:54</td>\n",
       "      <td>55.683807</td>\n",
       "      <td>37.297405</td>\n",
       "      <td>81</td>\n",
       "      <td>3</td>\n",
       "      <td>5</td>\n",
       "      <td>24</td>\n",
       "      <td>2</td>\n",
       "      <td>69.1</td>\n",
       "      <td>12.0</td>\n",
       "      <td>1</td>\n",
       "    </tr>\n",
       "    <tr>\n",
       "      <th>2</th>\n",
       "      <td>4000000</td>\n",
       "      <td>2018-02-28</td>\n",
       "      <td>15:44:00</td>\n",
       "      <td>56.295250</td>\n",
       "      <td>44.061637</td>\n",
       "      <td>2871</td>\n",
       "      <td>1</td>\n",
       "      <td>5</td>\n",
       "      <td>9</td>\n",
       "      <td>3</td>\n",
       "      <td>66.0</td>\n",
       "      <td>10.0</td>\n",
       "      <td>1</td>\n",
       "    </tr>\n",
       "    <tr>\n",
       "      <th>3</th>\n",
       "      <td>1850000</td>\n",
       "      <td>2018-03-01</td>\n",
       "      <td>11:24:52</td>\n",
       "      <td>44.996132</td>\n",
       "      <td>39.074783</td>\n",
       "      <td>2843</td>\n",
       "      <td>4</td>\n",
       "      <td>12</td>\n",
       "      <td>16</td>\n",
       "      <td>2</td>\n",
       "      <td>38.0</td>\n",
       "      <td>5.0</td>\n",
       "      <td>11</td>\n",
       "    </tr>\n",
       "    <tr>\n",
       "      <th>4</th>\n",
       "      <td>5450000</td>\n",
       "      <td>2018-03-01</td>\n",
       "      <td>17:42:43</td>\n",
       "      <td>55.918767</td>\n",
       "      <td>37.984642</td>\n",
       "      <td>81</td>\n",
       "      <td>3</td>\n",
       "      <td>13</td>\n",
       "      <td>14</td>\n",
       "      <td>2</td>\n",
       "      <td>60.0</td>\n",
       "      <td>10.0</td>\n",
       "      <td>1</td>\n",
       "    </tr>\n",
       "  </tbody>\n",
       "</table>\n",
       "</div>"
      ],
      "text/plain": [
       "     price        date      time    geo_lat    geo_lon  region  building_type  \\\n",
       "0  6050000  2018-02-19  20:00:21  59.805808  30.376141    2661              1   \n",
       "1  8650000  2018-02-27  12:04:54  55.683807  37.297405      81              3   \n",
       "2  4000000  2018-02-28  15:44:00  56.295250  44.061637    2871              1   \n",
       "3  1850000  2018-03-01  11:24:52  44.996132  39.074783    2843              4   \n",
       "4  5450000  2018-03-01  17:42:43  55.918767  37.984642      81              3   \n",
       "\n",
       "   level  levels  rooms  area  kitchen_area  object_type  \n",
       "0      8      10      3  82.6          10.8            1  \n",
       "1      5      24      2  69.1          12.0            1  \n",
       "2      5       9      3  66.0          10.0            1  \n",
       "3     12      16      2  38.0           5.0           11  \n",
       "4     13      14      2  60.0          10.0            1  "
      ]
     },
     "execution_count": 3,
     "metadata": {},
     "output_type": "execute_result"
    }
   ],
   "source": [
    "df = pd.read_csv(PATH)\n",
    "print(f'Data shape: {df.shape}')\n",
    "df.head()"
   ]
  },
  {
   "cell_type": "code",
   "execution_count": 4,
   "id": "fe708e7d",
   "metadata": {},
   "outputs": [],
   "source": [
    "# Function removes excess columns and enforces correct data types. \n",
    "# :param df: Original DataFrame :return: Updated DataFrame\n",
    "def clean_data(df: pd.DataFrame) -> pd.DataFrame:\n",
    "    df.drop('time', axis=1, inplace=True)\n",
    "    # convert prices to Millions\n",
    "    #df['price']=df['price']/1000000\n",
    "    # Date to Datetime\n",
    "    df['date'] = pd.to_datetime(df['date'])\n",
    "    # Column actually contains -1 and -2 values presumably for studio apartments.\n",
    "    df['rooms'] = df['rooms'].apply(lambda x: 0 if x < 0 else x)\n",
    "    df['price'] = df['price'].abs()  # Fix negative values\n",
    "    # Drop price and area outliers.\n",
    "    df = df[(df['area'] <= MAX_AREA) & (df['area'] >= MIN_AREA)]\n",
    "    df = df[(df['price'] <= MAX_PRICE) & (df['price'] >= MIN_PRICE)]\n",
    "    # Fix kitchen area outliers.\n",
    "    # At first, replace all outliers with 0.\n",
    "    df.loc[(df['kitchen_area'] >= MAX_KITCHEN) | (df['area'] <= MIN_AREA), 'kitchen_area'] = 0\n",
    "    # Then calculate kitchen area based on the floor area, except for studios.\n",
    "    erea_mean, kitchen_mean = df[['area', 'kitchen_area']].quantile(0.5)\n",
    "    kitchen_share = kitchen_mean / erea_mean\n",
    "    df.loc[(df['kitchen_area'] == 0) & (df['rooms'] != 0), 'kitchen_area'] = \\\n",
    "        df.loc[(df['kitchen_area'] == 0) & (df['rooms'] != 0), 'area'] * kitchen_share\n",
    "    return df"
   ]
  },
  {
   "cell_type": "code",
   "execution_count": 5,
   "id": "6171bd9e",
   "metadata": {},
   "outputs": [],
   "source": [
    "# Function selects the listings belonging to a specified region.\n",
    "#    :param df: Original DataFrame with all listings\n",
    "#    :return: Filtered DataFrame\n",
    "def select_region(df: pd.DataFrame) -> pd.DataFrame:\n",
    "    df = df[df['region'] == REGION_ID]\n",
    "    df.drop('region', axis=1, inplace=True)\n",
    "    print(f'Selected {len(df)} samples in region {REGION_ID}.')\n",
    "    return df"
   ]
  },
  {
   "cell_type": "code",
   "execution_count": 6,
   "id": "7c4f09af",
   "metadata": {},
   "outputs": [],
   "source": [
    "# add features\n",
    "def add_features(df: pd.DataFrame) -> pd.DataFrame:\n",
    "    # Replace \"date\" with numeric features for year and month.\n",
    "    df['year'] = df['date'].dt.year\n",
    "    df['month'] = df['date'].dt.month\n",
    "    df.drop('date', axis=1, inplace=True)\n",
    "    # Apartment floor in relation to total number of floors.\n",
    "    df['level_to_levels'] = df['level'] / df['levels']\n",
    "    # Average size of room in the apartment.\n",
    "    df['area_to_rooms'] = (df['area'] / df['rooms']).abs()\n",
    "    # Fix division by zero.\n",
    "    df.loc[df['area_to_rooms'] == np.inf, 'area_to_rooms'] = \\\n",
    "        df.loc[df['area_to_rooms'] == np.inf, 'area']\n",
    "    return df"
   ]
  },
  {
   "cell_type": "code",
   "execution_count": 7,
   "id": "7b793b44",
   "metadata": {},
   "outputs": [],
   "source": [
    "def set_seed(seed=42):\n",
    "    \"\"\"Utility function to use for reproducibility.\n",
    "    :param seed: Random seed\n",
    "    :return: None\n",
    "    \"\"\"\n",
    "    np.random.seed(seed)\n",
    "    random.seed(seed)\n",
    "    # tf.random.set_seed(seed)\n",
    "    os.environ['PYTHONHASHSEED'] = str(seed)\n",
    "    os.environ['TF_DETERMINISTIC_OPS'] = '1'"
   ]
  },
  {
   "cell_type": "code",
   "execution_count": 8,
   "id": "7fb069a6",
   "metadata": {},
   "outputs": [
    {
     "data": {
      "text/plain": [
       "(4747486, 12)"
      ]
     },
     "execution_count": 8,
     "metadata": {},
     "output_type": "execute_result"
    }
   ],
   "source": [
    "# Data set contains samples with typos and errors including negative prices, \n",
    "# too large or unrealistically small floor area, etc. \n",
    "# Let's clean the data before proceeding with the analysis. \n",
    "# We limit the floor area to a range betwee 20 sq.m and 200 sq.m \n",
    "# and price to a range between 1.5 mln to 50 mln rubles, which covers most of the housing market.\n",
    "df = df.pipe(clean_data)\n",
    "df.shape"
   ]
  },
  {
   "cell_type": "code",
   "execution_count": 9,
   "id": "11975333",
   "metadata": {},
   "outputs": [
    {
     "name": "stdout",
     "output_type": "stream",
     "text": [
      "Selected 453621 samples in region 2661.\n"
     ]
    },
    {
     "data": {
      "text/plain": [
       "(453621, 11)"
      ]
     },
     "execution_count": 9,
     "metadata": {},
     "output_type": "execute_result"
    }
   ],
   "source": [
    "# Run Region filter function\n",
    "df_reg = df.pipe(select_region)\n",
    "df_reg.shape\n"
   ]
  },
  {
   "cell_type": "code",
   "execution_count": 10,
   "id": "0c0247ea",
   "metadata": {},
   "outputs": [
    {
     "name": "stdout",
     "output_type": "stream",
     "text": [
      "<class 'pandas.core.frame.DataFrame'>\n",
      "Int64Index: 453621 entries, 0 to 5476998\n",
      "Data columns (total 14 columns):\n",
      " #   Column           Non-Null Count   Dtype  \n",
      "---  ------           --------------   -----  \n",
      " 0   price            453621 non-null  int64  \n",
      " 1   geo_lat          453621 non-null  float64\n",
      " 2   geo_lon          453621 non-null  float64\n",
      " 3   building_type    453621 non-null  int64  \n",
      " 4   level            453621 non-null  int64  \n",
      " 5   levels           453621 non-null  int64  \n",
      " 6   rooms            453621 non-null  int64  \n",
      " 7   area             453621 non-null  float64\n",
      " 8   kitchen_area     453621 non-null  float64\n",
      " 9   object_type      453621 non-null  int64  \n",
      " 10  year             453621 non-null  int64  \n",
      " 11  month            453621 non-null  int64  \n",
      " 12  level_to_levels  453621 non-null  float64\n",
      " 13  area_to_rooms    453621 non-null  float64\n",
      "dtypes: float64(6), int64(8)\n",
      "memory usage: 51.9 MB\n"
     ]
    }
   ],
   "source": [
    "# Run add features function\n",
    "df_reg_feat = df_reg.pipe(add_features)\n",
    "df_reg_feat.info()"
   ]
  },
  {
   "cell_type": "code",
   "execution_count": null,
   "id": "ea43ece0",
   "metadata": {},
   "outputs": [],
   "source": []
  },
  {
   "cell_type": "code",
   "execution_count": 10,
   "id": "2bd1a823",
   "metadata": {},
   "outputs": [
    {
     "data": {
      "text/plain": [
       "0     6050000\n",
       "7     3600000\n",
       "36    3200000\n",
       "47    6500000\n",
       "54    6300000\n",
       "Name: price, dtype: int64"
      ]
     },
     "execution_count": 10,
     "metadata": {},
     "output_type": "execute_result"
    }
   ],
   "source": [
    "# Split target\n",
    "y = df_reg_feat.pop('price')\n",
    "y.head()"
   ]
  },
  {
   "cell_type": "code",
   "execution_count": 11,
   "id": "48d96a0d",
   "metadata": {},
   "outputs": [
    {
     "data": {
      "text/html": [
       "<div>\n",
       "<style scoped>\n",
       "    .dataframe tbody tr th:only-of-type {\n",
       "        vertical-align: middle;\n",
       "    }\n",
       "\n",
       "    .dataframe tbody tr th {\n",
       "        vertical-align: top;\n",
       "    }\n",
       "\n",
       "    .dataframe thead th {\n",
       "        text-align: right;\n",
       "    }\n",
       "</style>\n",
       "<table border=\"1\" class=\"dataframe\">\n",
       "  <thead>\n",
       "    <tr style=\"text-align: right;\">\n",
       "      <th></th>\n",
       "      <th>date</th>\n",
       "      <th>geo_lat</th>\n",
       "      <th>geo_lon</th>\n",
       "      <th>building_type</th>\n",
       "      <th>level</th>\n",
       "      <th>levels</th>\n",
       "      <th>rooms</th>\n",
       "      <th>area</th>\n",
       "      <th>kitchen_area</th>\n",
       "      <th>object_type</th>\n",
       "    </tr>\n",
       "  </thead>\n",
       "  <tbody>\n",
       "    <tr>\n",
       "      <th>0</th>\n",
       "      <td>2018-02-19</td>\n",
       "      <td>59.805808</td>\n",
       "      <td>30.376141</td>\n",
       "      <td>1</td>\n",
       "      <td>8</td>\n",
       "      <td>10</td>\n",
       "      <td>3</td>\n",
       "      <td>82.6</td>\n",
       "      <td>10.8</td>\n",
       "      <td>1</td>\n",
       "    </tr>\n",
       "    <tr>\n",
       "      <th>7</th>\n",
       "      <td>2018-03-04</td>\n",
       "      <td>59.875526</td>\n",
       "      <td>30.395457</td>\n",
       "      <td>1</td>\n",
       "      <td>2</td>\n",
       "      <td>5</td>\n",
       "      <td>1</td>\n",
       "      <td>31.1</td>\n",
       "      <td>6.0</td>\n",
       "      <td>1</td>\n",
       "    </tr>\n",
       "    <tr>\n",
       "      <th>36</th>\n",
       "      <td>2018-04-10</td>\n",
       "      <td>59.827465</td>\n",
       "      <td>30.201827</td>\n",
       "      <td>1</td>\n",
       "      <td>7</td>\n",
       "      <td>9</td>\n",
       "      <td>1</td>\n",
       "      <td>31.0</td>\n",
       "      <td>7.0</td>\n",
       "      <td>1</td>\n",
       "    </tr>\n",
       "    <tr>\n",
       "      <th>47</th>\n",
       "      <td>2018-04-23</td>\n",
       "      <td>59.988334</td>\n",
       "      <td>29.786928</td>\n",
       "      <td>3</td>\n",
       "      <td>3</td>\n",
       "      <td>3</td>\n",
       "      <td>3</td>\n",
       "      <td>89.0</td>\n",
       "      <td>10.0</td>\n",
       "      <td>1</td>\n",
       "    </tr>\n",
       "    <tr>\n",
       "      <th>54</th>\n",
       "      <td>2018-04-28</td>\n",
       "      <td>59.911622</td>\n",
       "      <td>30.284556</td>\n",
       "      <td>3</td>\n",
       "      <td>5</td>\n",
       "      <td>5</td>\n",
       "      <td>2</td>\n",
       "      <td>99.9</td>\n",
       "      <td>14.5</td>\n",
       "      <td>1</td>\n",
       "    </tr>\n",
       "  </tbody>\n",
       "</table>\n",
       "</div>"
      ],
      "text/plain": [
       "         date    geo_lat    geo_lon  building_type  level  levels  rooms  \\\n",
       "0  2018-02-19  59.805808  30.376141              1      8      10      3   \n",
       "7  2018-03-04  59.875526  30.395457              1      2       5      1   \n",
       "36 2018-04-10  59.827465  30.201827              1      7       9      1   \n",
       "47 2018-04-23  59.988334  29.786928              3      3       3      3   \n",
       "54 2018-04-28  59.911622  30.284556              3      5       5      2   \n",
       "\n",
       "    area  kitchen_area  object_type  \n",
       "0   82.6          10.8            1  \n",
       "7   31.1           6.0            1  \n",
       "36  31.0           7.0            1  \n",
       "47  89.0          10.0            1  \n",
       "54  99.9          14.5            1  "
      ]
     },
     "execution_count": 11,
     "metadata": {},
     "output_type": "execute_result"
    }
   ],
   "source": [
    "# and variables\n",
    "X = df_reg_feat\n",
    "X.head()"
   ]
  },
  {
   "cell_type": "code",
   "execution_count": 12,
   "id": "4782eab2",
   "metadata": {},
   "outputs": [],
   "source": [
    "# Split train and test data\n",
    "from sklearn.model_selection import train_test_split\n",
    "\n",
    "X_train, X_test, y_train, y_test = train_test_split(X, y, test_size=0.2, random_state=123)\n"
   ]
  },
  {
   "cell_type": "code",
   "execution_count": null,
   "id": "229bb92c",
   "metadata": {},
   "outputs": [],
   "source": [
    "# XGB Regressor basic parameters, scaled\n",
    "\n",
    "from sklearn.ensemble import RandomForestRegressor\n",
    "from xgboost import XGBRegressor\n",
    "\n",
    "from sklearn import preprocessing\n",
    "from sklearn.pipeline import make_pipeline\n",
    "from sklearn.model_selection import GridSearchCV, cross_val_score\n",
    "from sklearn.metrics import mean_squared_error, r2_score, mean_absolute_error\n",
    "import joblib\n",
    "\n",
    "# Declare data preprocessing steps\n",
    "model1 = RandomForestRegressor(n_estimators=100, random_state=123)\n",
    "model2 = XGBRegressor(n_estimators=50, random_state=123)\n",
    "\n",
    "pipeline = make_pipeline(preprocessing.StandardScaler(), model2)\n",
    "\n",
    "# Declare hyperparameters to tune\n",
    "hyperparameters1 = {'randomforestregressor__max_features' : ['auto'], \n",
    "                   'randomforestregressor__max_depth': [5],\n",
    "                   'randomforestregressor__max_leaf_nodes': [100]}\n",
    "\n",
    "hyperparameters2 = {'xgbregressor__max_features' : ['auto'], \n",
    "                   'xgbregressor__max_depth': [5],\n",
    "                   'xgbregressor__max_leaf_nodes': [100]}\n",
    "\n",
    "# Tune model using cross-validation pipeline\n",
    "model = GridSearchCV(pipeline, hyperparameters2, cv=5)\n",
    "model.fit(X_train, y_train)\n",
    "\n",
    "# Evaluate model pipeline on test data\n",
    "pred = model.predict(X_test)\n",
    "\n",
    "print( r2_score(y_test, pred) )\n",
    "print( mean_absolute_error(y_test, pred))\n",
    "print( model.score(X_test, y_test) )\n"
   ]
  },
  {
   "cell_type": "code",
   "execution_count": null,
   "id": "3889541c",
   "metadata": {},
   "outputs": [],
   "source": [
    "# Another aproach with XGRegressor with KFold\n",
    "\n",
    "from sklearn.model_selection import KFold\n",
    "from xgboost import XGBRegressor\n",
    "from sklearn.metrics import mean_squared_error, r2_score, mean_absolute_error\n",
    "import joblib\n",
    "\n",
    "set_seed(SEED)\n",
    "kf = KFold(N_FOLDS, shuffle=True, random_state=SEED)\n",
    "\n",
    "scores = []\n",
    "\n",
    "for train_index, test_index in kf.split(X, y):\n",
    "\n",
    "    x_train, x_test = X.iloc[train_index, :], X.iloc[test_index, :]\n",
    "    y_train, y_test = y.iloc[train_index], y.iloc[test_index]\n",
    "\n",
    "    model_xgb = XGBRegressor(objective='reg:squarederror')\n",
    "\n",
    "    model_xgb.fit(x_train, y_train, eval_set=[(x_test, y_test)],\n",
    "                  eval_metric='rmse', early_stopping_rounds=50,\n",
    "                  verbose=0)\n",
    "\n",
    "    scores.append(model_xgb.best_score)\n",
    "    model_xgb.save_model(f'xgboost{len(scores)}.bin')\n",
    "\n",
    "\n",
    "print('XGBoost average RMSE:', np.mean(round(score,2)))\n",
    "\n",
    "pred = model_xgb.predict(x_test)\n",
    "\n",
    "print( r2_score(y_test, pred) )\n",
    "print( mean_absolute_error(y_test, pred))\n",
    "print( model_xgb.score(x_test, y_test) )\n",
    "\n",
    "\n",
    "#for i, score in enumerate(scores):\n",
    "#    print(f'Model {i} RMSE: {round(score,2)}')"
   ]
  },
  {
   "cell_type": "code",
   "execution_count": 13,
   "id": "d308852a",
   "metadata": {},
   "outputs": [],
   "source": [
    "# Approach with Feature selection (num/cat/relevance)\n",
    "\n",
    "numerical_cols = [col for col in X.columns if X[col].dtype in ['int64', 'float64']]\n",
    "categorical_cols = [col for col in X.columns if X[col].nunique() < 50 and X[col].dtype == \"object\"]\n",
    "\n",
    "#object_cols = [col for col in train_data.columns if train_data[col].dtype == \"object\"]\n",
    "#cols_with_missing = [col for col in train_data.columns if train_data[col].isnull().any()]\n",
    "\n",
    "X_train = X_train[numerical_cols+categorical_cols]\n",
    "X_test = X_test[numerical_cols+categorical_cols]\n"
   ]
  },
  {
   "cell_type": "code",
   "execution_count": 14,
   "id": "ba4ecb2c",
   "metadata": {},
   "outputs": [
    {
     "name": "stdout",
     "output_type": "stream",
     "text": [
      "MAE: 827685.5538011126\n",
      "Model score: 0.9137520170991233\n"
     ]
    }
   ],
   "source": [
    "#6. Transformation pipeline with Random Forest Regressor\n",
    "from sklearn.compose import ColumnTransformer\n",
    "from sklearn.pipeline import Pipeline\n",
    "from sklearn.impute import SimpleImputer\n",
    "from sklearn.preprocessing import OneHotEncoder\n",
    "from xgboost import XGBRegressor\n",
    "from sklearn.ensemble import RandomForestRegressor\n",
    "from sklearn.metrics import mean_squared_error, r2_score, mean_absolute_error\n",
    "\n",
    "# Preprocessing for numerical data\n",
    "numerical_transformer = SimpleImputer(strategy='mean')\n",
    "\n",
    "# Preprocessing for categorical data\n",
    "categorical_transformer = Pipeline(steps=[\n",
    "    ('imputer', SimpleImputer(strategy='most_frequent')),\n",
    "    ('onehot', OneHotEncoder(handle_unknown='ignore'))])\n",
    "\n",
    "# Bundle preprocessing for numerical and categorical data\n",
    "preprocessor = ColumnTransformer(\n",
    "    transformers=[\n",
    "        ('num', numerical_transformer, numerical_cols),\n",
    "        ('cat', categorical_transformer, categorical_cols)])\n",
    "\n",
    "# Define model\n",
    "model1 = RandomForestRegressor(n_estimators=100, random_state=123)\n",
    "model2 = XGBRegressor(n_estimators=50, random_state=123)\n",
    "\n",
    "\n",
    "# Bundle preprocessing and modeling code in a pipeline\n",
    "model_rf = Pipeline(steps=[('preprocessor', preprocessor),\n",
    "                           ('model', model1)])\n",
    "\n",
    "# Preprocessing of training data, fit model \n",
    "model_rf.fit(X_train, y_train)\n",
    "\n",
    "# Preprocessing of validation data, get predictions\n",
    "preds = model_rf.predict(X_test)\n",
    "\n",
    "\n",
    "print('MAE:', mean_absolute_error(y_test, preds))\n",
    "print('Model score:', model_rf.score(X_test, y_test))\n",
    "\n"
   ]
  },
  {
   "cell_type": "code",
   "execution_count": 19,
   "id": "4924a21c",
   "metadata": {},
   "outputs": [
    {
     "data": {
      "image/png": "[encoded data removed]",
      "text/plain": [
       "<Figure size 864x1152 with 1 Axes>"
      ]
     },
     "metadata": {
      "needs_background": "light"
     },
     "output_type": "display_data"
    }
   ],
   "source": [
    "import matplotlib.pyplot as plt\n",
    "\n",
    "# Display feature importance.\n",
    "importance = pd.DataFrame({\n",
    "    'features': X.columns,\n",
    "    'importance': model1.feature_importances_\n",
    "})\n",
    "importance.sort_values(by='importance', inplace=True)\n",
    "\n",
    "plt.figure(figsize=(12, 16))\n",
    "plt.barh(importance['features'], importance['importance'])\n",
    "plt.title('RF Feature Importance')\n",
    "plt.show()"
   ]
  },
  {
   "cell_type": "code",
   "execution_count": null,
   "id": "56fdcc6b",
   "metadata": {},
   "outputs": [],
   "source": [
    "\n"
   ]
  },
  {
   "cell_type": "code",
   "execution_count": 28,
   "id": "a083b73a",
   "metadata": {},
   "outputs": [
    {
     "name": "stdout",
     "output_type": "stream",
     "text": [
      "0.8586311222545863\n",
      "0.05573906204093074\n"
     ]
    }
   ],
   "source": [
    "# Final resulta with CV\n",
    "\n",
    "result_final = cross_val_score(model_rf, X, y, cv=5)\n",
    "print(np.mean(result_final))\n",
    "print(np.std(result_final))"
   ]
  },
  {
   "cell_type": "code",
   "execution_count": 20,
   "id": "8ce6ce93",
   "metadata": {},
   "outputs": [
    {
     "ename": "AttributeError",
     "evalue": "'RandomForestRegressor' object has no attribute 'predict_proba'",
     "output_type": "error",
     "traceback": [
      "\u001b[0;31m---------------------------------------------------------------------------\u001b[0m",
      "\u001b[0;31mAttributeError\u001b[0m                            Traceback (most recent call last)",
      "\u001b[0;32m/var/folders/gn/p80rhjt165957r0pwjfj_1xw0000gn/T/ipykernel_28186/2113798568.py\u001b[0m in \u001b[0;36m<module>\u001b[0;34m\u001b[0m\n\u001b[1;32m      1\u001b[0m \u001b[0;32mfrom\u001b[0m \u001b[0msklearn\u001b[0m\u001b[0;34m.\u001b[0m\u001b[0mmetrics\u001b[0m \u001b[0;32mimport\u001b[0m \u001b[0mroc_auc_score\u001b[0m\u001b[0;34m,\u001b[0m \u001b[0mroc_curve\u001b[0m\u001b[0;34m\u001b[0m\u001b[0;34m\u001b[0m\u001b[0m\n\u001b[1;32m      2\u001b[0m \u001b[0;34m\u001b[0m\u001b[0m\n\u001b[0;32m----> 3\u001b[0;31m \u001b[0my_pred_proba\u001b[0m \u001b[0;34m=\u001b[0m \u001b[0mmodel1\u001b[0m\u001b[0;34m.\u001b[0m\u001b[0mpredict_proba\u001b[0m\u001b[0;34m(\u001b[0m\u001b[0mX_test\u001b[0m\u001b[0;34m)\u001b[0m\u001b[0;34m\u001b[0m\u001b[0;34m\u001b[0m\u001b[0m\n\u001b[0m\u001b[1;32m      4\u001b[0m \u001b[0mprint\u001b[0m\u001b[0;34m(\u001b[0m\u001b[0;34m\"model_rf AUC score:\"\u001b[0m\u001b[0;34m,\u001b[0m \u001b[0mroc_auc_score\u001b[0m\u001b[0;34m(\u001b[0m\u001b[0my_test\u001b[0m\u001b[0;34m,\u001b[0m \u001b[0my_pred_proba\u001b[0m\u001b[0;34m)\u001b[0m\u001b[0;34m)\u001b[0m\u001b[0;34m\u001b[0m\u001b[0;34m\u001b[0m\u001b[0m\n",
      "\u001b[0;31mAttributeError\u001b[0m: 'RandomForestRegressor' object has no attribute 'predict_proba'"
     ]
    }
   ],
   "source": [
    "from sklearn.metrics import roc_auc_score, roc_curve\n",
    "\n",
    "y_pred_proba = model1.predict_proba(X_test)\n",
    "print(\"model_rf AUC score:\", roc_auc_score(y_test, y_pred_proba))"
   ]
  },
  {
   "cell_type": "code",
   "execution_count": null,
   "id": "cea4efe9",
   "metadata": {},
   "outputs": [],
   "source": [
    "# visualizing AUC model comparison\n",
    "fpr, tpr, thresholds = roc_curve(y_test, y_pred_proba1[:, 1])\n",
    "fpr1, tpr1, thresholds = roc_curve(y_test, y_pred_proba2[:, 1])\n",
    "\n",
    "plt.plot(fpr, tpr)\n",
    "plt.plot(fpr1, tpr1)\n",
    "plt.show()"
   ]
  },
  {
   "cell_type": "code",
   "execution_count": null,
   "id": "336e8ad6",
   "metadata": {},
   "outputs": [],
   "source": []
  },
  {
   "cell_type": "code",
   "execution_count": null,
   "id": "1f7b3600",
   "metadata": {},
   "outputs": [],
   "source": []
  },
  {
   "cell_type": "code",
   "execution_count": 29,
   "id": "e8a9b555",
   "metadata": {},
   "outputs": [
    {
     "data": {
      "text/plain": [
       "['model_rf.sav']"
      ]
     },
     "execution_count": 29,
     "metadata": {},
     "output_type": "execute_result"
    }
   ],
   "source": [
    "# Safe the model\n",
    "import joblib\n",
    "\n",
    "filename = 'model_rf.sav'\n",
    "joblib.dump(model_rf, filename)"
   ]
  },
  {
   "cell_type": "code",
   "execution_count": 30,
   "id": "b930b982",
   "metadata": {},
   "outputs": [],
   "source": [
    "# load the model from disk\n",
    "loaded_model = joblib.load(filename)"
   ]
  },
  {
   "cell_type": "code",
   "execution_count": null,
   "id": "9f24c5ca",
   "metadata": {},
   "outputs": [],
   "source": []
  },
  {
   "cell_type": "code",
   "execution_count": null,
   "id": "30748eb1",
   "metadata": {},
   "outputs": [],
   "source": []
  }
 ],
 "metadata": {
  "kernelspec": {
   "display_name": "Python 3 (ipykernel)",
   "language": "python",
   "name": "python3"
  },
  "language_info": {
   "codemirror_mode": {
    "name": "ipython",
    "version": 3
   },
   "file_extension": ".py",
   "mimetype": "text/x-python",
   "name": "python",
   "nbconvert_exporter": "python",
   "pygments_lexer": "ipython3",
   "version": "3.9.7"
  }
 },
 "nbformat": 4,
 "nbformat_minor": 5
}
